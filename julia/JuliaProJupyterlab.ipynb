{
 "cells": [
  {
   "cell_type": "markdown",
   "id": "needed-brush",
   "metadata": {},
   "source": [
    "# Project Euler Julia Notebook\n",
    "## Problem 1\n",
    "    Find the sum of all the multiples of 3 or 5 below 1000. "
   ]
  },
  {
   "cell_type": "code",
   "execution_count": 6,
   "id": "occupied-anderson",
   "metadata": {},
   "outputs": [
    {
     "data": {
      "text/plain": [
       "233168"
      ]
     },
     "execution_count": 6,
     "metadata": {},
     "output_type": "execute_result"
    }
   ],
   "source": [
    "sum([x % 3 == 0 || x % 5 == 0 ? x : 0 for x = 1:999])"
   ]
  },
  {
   "cell_type": "markdown",
   "id": "appropriate-destruction",
   "metadata": {},
   "source": [
    "## Problem 2\n",
    "Find the sum of the even-valued terms in the Fibonacci sequence < 4_000_000 ?"
   ]
  },
  {
   "cell_type": "code",
   "execution_count": 9,
   "id": "express-andorra",
   "metadata": {},
   "outputs": [
    {
     "data": {
      "text/plain": [
       "4613732"
      ]
     },
     "execution_count": 9,
     "metadata": {},
     "output_type": "execute_result"
    }
   ],
   "source": [
    "fibs(p, c, n) = c>4e6 ? n : fibs(c, p+c, c % 2 == 1 ? n : n+c)\n",
    "fibs(1, 2, 0)"
   ]
  },
  {
   "cell_type": "markdown",
   "id": "oriental-tolerance",
   "metadata": {},
   "source": [
    "## Problem 3 \n",
    "What is the largest prime factor of the number 600851475143? "
   ]
  },
  {
   "cell_type": "code",
   "execution_count": 10,
   "id": "suspected-converter",
   "metadata": {},
   "outputs": [
    {
     "data": {
      "text/plain": [
       "6857"
      ]
     },
     "execution_count": 10,
     "metadata": {},
     "output_type": "execute_result"
    }
   ],
   "source": [
    "using Primes\n",
    "\n",
    "function solve()\n",
    "    n = 600851475143\n",
    "    iter = collect(2:round(Int, sqrt(n)))\n",
    "    filter!(x -> n % x == 0, iter)\n",
    "    ans = 0\n",
    "    for i in iter\n",
    "        k = div(n, i)\n",
    "        if i > ans && isprime(i)\n",
    "            ans = i\n",
    "        end\n",
    "        if k > ans && isprime(k)\n",
    "            ans = k\n",
    "        end\n",
    "    end\n",
    "    ans\n",
    "end\n",
    "\n",
    "solve()"
   ]
  },
  {
   "cell_type": "markdown",
   "id": "scenic-addition",
   "metadata": {},
   "source": [
    "## Problem 4\n",
    "Find the largest palindrome made from the product of two 3-digit numbers."
   ]
  },
  {
   "cell_type": "code",
   "execution_count": 11,
   "id": "casual-course",
   "metadata": {},
   "outputs": [
    {
     "data": {
      "text/plain": [
       "906609"
      ]
     },
     "execution_count": 11,
     "metadata": {},
     "output_type": "execute_result"
    }
   ],
   "source": [
    "function ispalindrome(num)\n",
    "    str_num = string(num)\n",
    "    return str_num == reverse(str_num) ? true : false\n",
    "end\n",
    "\n",
    "function solve()\n",
    "    ans = 0\n",
    "    a = 900\n",
    "    while a <= 999\n",
    "        b = 900 \n",
    "        while b <= 920\n",
    "            if ispalindrome(a*b)\n",
    "                ans = a*b\n",
    "            end\n",
    "            b += 1\n",
    "        end\n",
    "        a += 1\n",
    "    end\n",
    "    return ans\n",
    "end\n",
    "\n",
    "solve()"
   ]
  },
  {
   "cell_type": "markdown",
   "id": "domestic-franchise",
   "metadata": {},
   "source": [
    "## Problem 5\n",
    "What is the smallest positive number that is evenly divisible by all of the numbers from 1 to 20?"
   ]
  },
  {
   "cell_type": "code",
   "execution_count": 12,
   "id": "rubber-guinea",
   "metadata": {},
   "outputs": [
    {
     "data": {
      "text/plain": [
       "232792560"
      ]
     },
     "execution_count": 12,
     "metadata": {},
     "output_type": "execute_result"
    }
   ],
   "source": [
    "function mapper(arr)\n",
    "    for i = 1:18\n",
    "        for j = i+1:19\n",
    "            arr[j] = arr[j]%arr[i] == 0 ? arr[j]/arr[i] : arr[j]\n",
    "        end\n",
    "    end\n",
    "    arr\n",
    "end\n",
    "\n",
    "function solve()\n",
    "    return reduce(*, mapper(collect(2:20)))\n",
    "end\n",
    "\n",
    "solve()"
   ]
  },
  {
   "cell_type": "markdown",
   "id": "mature-pursuit",
   "metadata": {},
   "source": [
    "## Problem 6\n",
    "Find the difference between the sum of the squares of the first one hundred natural numbers and the square of the sum."
   ]
  },
  {
   "cell_type": "code",
   "execution_count": 13,
   "id": "dominican-disposition",
   "metadata": {},
   "outputs": [
    {
     "data": {
      "text/plain": [
       "25164150"
      ]
     },
     "execution_count": 13,
     "metadata": {},
     "output_type": "execute_result"
    }
   ],
   "source": [
    "sum1 = n -> n^2 * (n+1)^2 * 1/4\n",
    "sum2 = n -> n * (n+1) * (2n+1) * 1/6\n",
    "Int64(sum1(100)-sum2(100))"
   ]
  },
  {
   "cell_type": "markdown",
   "id": "incomplete-entertainment",
   "metadata": {},
   "source": [
    "## Problem 7\n",
    "What is the 10 001st prime number?"
   ]
  },
  {
   "cell_type": "code",
   "execution_count": 14,
   "id": "further-living",
   "metadata": {},
   "outputs": [
    {
     "data": {
      "text/plain": [
       "104743"
      ]
     },
     "execution_count": 14,
     "metadata": {},
     "output_type": "execute_result"
    }
   ],
   "source": [
    "prime(10001)"
   ]
  },
  {
   "cell_type": "markdown",
   "id": "respected-springfield",
   "metadata": {},
   "source": [
    "## Problem 8\n",
    "Find the thirteen adjacent digits in the 1000-digit number that have the greatest product. What is the value of this product?"
   ]
  },
  {
   "cell_type": "code",
   "execution_count": 15,
   "id": "informational-division",
   "metadata": {},
   "outputs": [
    {
     "data": {
      "text/plain": [
       "23514624000"
      ]
     },
     "execution_count": 15,
     "metadata": {},
     "output_type": "execute_result"
    }
   ],
   "source": [
    "str_num = string(\n",
    "\"73167176531330624919225119674426574742355349194934\",\n",
    "\"96983520312774506326239578318016984801869478851843\",\n",
    "\"85861560789112949495459501737958331952853208805511\",\n",
    "\"12540698747158523863050715693290963295227443043557\",\n",
    "\"66896648950445244523161731856403098711121722383113\",\n",
    "\"62229893423380308135336276614282806444486645238749\",\n",
    "\"30358907296290491560440772390713810515859307960866\",\n",
    "\"70172427121883998797908792274921901699720888093776\",\n",
    "\"65727333001053367881220235421809751254540594752243\",\n",
    "\"52584907711670556013604839586446706324415722155397\",\n",
    "\"53697817977846174064955149290862569321978468622482\",\n",
    "\"83972241375657056057490261407972968652414535100474\",\n",
    "\"82166370484403199890008895243450658541227588666881\",\n",
    "\"16427171479924442928230863465674813919123162824586\",\n",
    "\"17866458359124566529476545682848912883142607690042\",\n",
    "\"24219022671055626321111109370544217506941658960408\",\n",
    "\"07198403850962455444362981230987879927244284909188\",\n",
    "\"84580156166097919133875499200524063689912560717606\",\n",
    "\"05886116467109405077541002256983155200055935729725\",\n",
    "\"71636269561882670428252483600823257530420752963450\")\n",
    "\n",
    "num = [Int64(str_num[i]-48) for i in 1:length(str_num)]\n",
    "maximum([reduce(*, num[i:i+12]) for i in 1:length(num)-13])"
   ]
  },
  {
   "cell_type": "markdown",
   "id": "better-associate",
   "metadata": {},
   "source": [
    "## Problem 9\n",
    "There exists exactly one Pythagorean triplet for which a + b + c = 1000.\n",
    "    Find the product abc."
   ]
  },
  {
   "cell_type": "code",
   "execution_count": 16,
   "id": "chubby-penetration",
   "metadata": {},
   "outputs": [
    {
     "data": {
      "text/plain": [
       "31875000"
      ]
     },
     "execution_count": 16,
     "metadata": {},
     "output_type": "execute_result"
    }
   ],
   "source": [
    "function solve()\n",
    "    for b = 499:-1:1\n",
    "        (a, r) = divrem(500000-1000*b, 1000-b)\n",
    "        if r == 0\n",
    "            return a*b*(1000-a-b)\n",
    "        end\n",
    "    end\n",
    "end\n",
    "solve()"
   ]
  },
  {
   "cell_type": "markdown",
   "id": "conceptual-player",
   "metadata": {},
   "source": [
    "## Problem 10\n",
    "Find the sum of all the primes below two million."
   ]
  },
  {
   "cell_type": "code",
   "execution_count": 17,
   "id": "determined-national",
   "metadata": {},
   "outputs": [
    {
     "data": {
      "text/plain": [
       "142913828922"
      ]
     },
     "execution_count": 17,
     "metadata": {},
     "output_type": "execute_result"
    }
   ],
   "source": [
    "sum(primes(2_000_000))"
   ]
  }
 ],
 "metadata": {
  "kernelspec": {
   "display_name": "Julia 1.5.3",
   "language": "julia",
   "name": "julia-1.5"
  },
  "language_info": {
   "file_extension": ".jl",
   "mimetype": "application/julia",
   "name": "julia",
   "version": "1.5.3"
  }
 },
 "nbformat": 4,
 "nbformat_minor": 5
}
