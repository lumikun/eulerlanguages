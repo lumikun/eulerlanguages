{
 "cells": [
  {
   "cell_type": "markdown",
   "id": "uniform-management",
   "metadata": {},
   "source": [
    "# Project Euler Julia Notebook\n",
    "## Problem 1\n",
    "    Find the sum of all the multiples of 3 or 5 below 1000. "
   ]
  },
  {
   "cell_type": "code",
   "execution_count": 6,
   "id": "democratic-galaxy",
   "metadata": {},
   "outputs": [
    {
     "data": {
      "text/plain": [
       "233168"
      ]
     },
     "execution_count": 6,
     "metadata": {},
     "output_type": "execute_result"
    }
   ],
   "source": [
    "sum([x % 3 == 0 || x % 5 == 0 ? x : 0 for x = 1:999])"
   ]
  },
  {
   "cell_type": "markdown",
   "id": "directed-steel",
   "metadata": {},
   "source": [
    "## Problem 2\n",
    "Find the sum of the even-valued terms in the Fibonacci sequence < 4_000_000 ?"
   ]
  },
  {
   "cell_type": "code",
   "execution_count": 9,
   "id": "spread-carol",
   "metadata": {},
   "outputs": [
    {
     "data": {
      "text/plain": [
       "4613732"
      ]
     },
     "execution_count": 9,
     "metadata": {},
     "output_type": "execute_result"
    }
   ],
   "source": [
    "fibs(p, c, n) = c>4e6 ? n : fibs(c, p+c, c % 2 == 1 ? n : n+c)\n",
    "fibs(1, 2, 0)"
   ]
  },
  {
   "cell_type": "markdown",
   "id": "premier-desperate",
   "metadata": {},
   "source": [
    "## Problem 3 \n",
    "What is the largest prime factor of the number 600851475143? "
   ]
  },
  {
   "cell_type": "code",
   "execution_count": 10,
   "id": "piano-september",
   "metadata": {},
   "outputs": [
    {
     "data": {
      "text/plain": [
       "6857"
      ]
     },
     "execution_count": 10,
     "metadata": {},
     "output_type": "execute_result"
    }
   ],
   "source": [
    "using Primes\n",
    "\n",
    "function solve()\n",
    "    n = 600851475143\n",
    "    iter = collect(2:round(Int, sqrt(n)))\n",
    "    filter!(x -> n % x == 0, iter)\n",
    "    ans = 0\n",
    "    for i in iter\n",
    "        k = div(n, i)\n",
    "        if i > ans && isprime(i)\n",
    "            ans = i\n",
    "        end\n",
    "        if k > ans && isprime(k)\n",
    "            ans = k\n",
    "        end\n",
    "    end\n",
    "    ans\n",
    "end\n",
    "\n",
    "solve()"
   ]
  },
  {
   "cell_type": "markdown",
   "id": "prerequisite-transfer",
   "metadata": {},
   "source": [
    "## Problem 4\n",
    "Find the largest palindrome made from the product of two 3-digit numbers."
   ]
  },
  {
   "cell_type": "code",
   "execution_count": 11,
   "id": "based-consumer",
   "metadata": {},
   "outputs": [
    {
     "data": {
      "text/plain": [
       "906609"
      ]
     },
     "execution_count": 11,
     "metadata": {},
     "output_type": "execute_result"
    }
   ],
   "source": [
    "function ispalindrome(num)\n",
    "    str_num = string(num)\n",
    "    return str_num == reverse(str_num) ? true : false\n",
    "end\n",
    "\n",
    "function solve()\n",
    "    ans = 0\n",
    "    a = 900\n",
    "    while a <= 999\n",
    "        b = 900 \n",
    "        while b <= 920\n",
    "            if ispalindrome(a*b)\n",
    "                ans = a*b\n",
    "            end\n",
    "            b += 1\n",
    "        end\n",
    "        a += 1\n",
    "    end\n",
    "    return ans\n",
    "end\n",
    "\n",
    "solve()"
   ]
  },
  {
   "cell_type": "markdown",
   "id": "published-listening",
   "metadata": {},
   "source": [
    "## Problem 5\n",
    "What is the smallest positive number that is evenly divisible by all of the numbers from 1 to 20?"
   ]
  },
  {
   "cell_type": "code",
   "execution_count": 12,
   "id": "corporate-prospect",
   "metadata": {},
   "outputs": [
    {
     "data": {
      "text/plain": [
       "232792560"
      ]
     },
     "execution_count": 12,
     "metadata": {},
     "output_type": "execute_result"
    }
   ],
   "source": [
    "function mapper(arr)\n",
    "    for i = 1:18\n",
    "        for j = i+1:19\n",
    "            arr[j] = arr[j]%arr[i] == 0 ? arr[j]/arr[i] : arr[j]\n",
    "        end\n",
    "    end\n",
    "    arr\n",
    "end\n",
    "\n",
    "function solve()\n",
    "    return reduce(*, mapper(collect(2:20)))\n",
    "end\n",
    "\n",
    "solve()"
   ]
  },
  {
   "cell_type": "markdown",
   "id": "looking-columbus",
   "metadata": {},
   "source": [
    "## Problem 6\n",
    "Find the difference between the sum of the squares of the first one hundred natural numbers and the square of the sum."
   ]
  },
  {
   "cell_type": "code",
   "execution_count": 13,
   "id": "muslim-thompson",
   "metadata": {},
   "outputs": [
    {
     "data": {
      "text/plain": [
       "25164150"
      ]
     },
     "execution_count": 13,
     "metadata": {},
     "output_type": "execute_result"
    }
   ],
   "source": [
    "sum1 = n -> n^2 * (n+1)^2 * 1/4\n",
    "sum2 = n -> n * (n+1) * (2n+1) * 1/6\n",
    "Int64(sum1(100)-sum2(100))"
   ]
  },
  {
   "cell_type": "markdown",
   "id": "explicit-albania",
   "metadata": {},
   "source": [
    "## Problem 7\n",
    "What is the 10 001st prime number?"
   ]
  },
  {
   "cell_type": "code",
   "execution_count": 14,
   "id": "final-singer",
   "metadata": {},
   "outputs": [
    {
     "data": {
      "text/plain": [
       "104743"
      ]
     },
     "execution_count": 14,
     "metadata": {},
     "output_type": "execute_result"
    }
   ],
   "source": [
    "prime(10001)"
   ]
  },
  {
   "cell_type": "markdown",
   "id": "unique-dressing",
   "metadata": {},
   "source": [
    "## Problem 8\n",
    "Find the thirteen adjacent digits in the 1000-digit number that have the greatest product. What is the value of this product?"
   ]
  },
  {
   "cell_type": "code",
   "execution_count": 15,
   "id": "static-shade",
   "metadata": {},
   "outputs": [
    {
     "data": {
      "text/plain": [
       "23514624000"
      ]
     },
     "execution_count": 15,
     "metadata": {},
     "output_type": "execute_result"
    }
   ],
   "source": [
    "str_num = string(\n",
    "\"73167176531330624919225119674426574742355349194934\",\n",
    "\"96983520312774506326239578318016984801869478851843\",\n",
    "\"85861560789112949495459501737958331952853208805511\",\n",
    "\"12540698747158523863050715693290963295227443043557\",\n",
    "\"66896648950445244523161731856403098711121722383113\",\n",
    "\"62229893423380308135336276614282806444486645238749\",\n",
    "\"30358907296290491560440772390713810515859307960866\",\n",
    "\"70172427121883998797908792274921901699720888093776\",\n",
    "\"65727333001053367881220235421809751254540594752243\",\n",
    "\"52584907711670556013604839586446706324415722155397\",\n",
    "\"53697817977846174064955149290862569321978468622482\",\n",
    "\"83972241375657056057490261407972968652414535100474\",\n",
    "\"82166370484403199890008895243450658541227588666881\",\n",
    "\"16427171479924442928230863465674813919123162824586\",\n",
    "\"17866458359124566529476545682848912883142607690042\",\n",
    "\"24219022671055626321111109370544217506941658960408\",\n",
    "\"07198403850962455444362981230987879927244284909188\",\n",
    "\"84580156166097919133875499200524063689912560717606\",\n",
    "\"05886116467109405077541002256983155200055935729725\",\n",
    "\"71636269561882670428252483600823257530420752963450\")\n",
    "\n",
    "num = [Int64(str_num[i]-48) for i in 1:length(str_num)]\n",
    "maximum([reduce(*, num[i:i+12]) for i in 1:length(num)-13])"
   ]
  },
  {
   "cell_type": "markdown",
   "id": "meaning-edgar",
   "metadata": {},
   "source": [
    "## Problem 9\n",
    "There exists exactly one Pythagorean triplet for which a + b + c = 1000.\n",
    "    Find the product abc."
   ]
  },
  {
   "cell_type": "code",
   "execution_count": 16,
   "id": "mediterranean-report",
   "metadata": {},
   "outputs": [
    {
     "data": {
      "text/plain": [
       "31875000"
      ]
     },
     "execution_count": 16,
     "metadata": {},
     "output_type": "execute_result"
    }
   ],
   "source": [
    "function solve()\n",
    "    for b = 499:-1:1\n",
    "        (a, r) = divrem(500000-1000*b, 1000-b)\n",
    "        if r == 0\n",
    "            return a*b*(1000-a-b)\n",
    "        end\n",
    "    end\n",
    "end\n",
    "solve()"
   ]
  },
  {
   "cell_type": "markdown",
   "id": "unlikely-jersey",
   "metadata": {},
   "source": [
    "## Problem 10\n",
    "Find the sum of all the primes below two million."
   ]
  },
  {
   "cell_type": "code",
   "execution_count": 17,
   "id": "white-replica",
   "metadata": {},
   "outputs": [
    {
     "data": {
      "text/plain": [
       "142913828922"
      ]
     },
     "execution_count": 17,
     "metadata": {},
     "output_type": "execute_result"
    }
   ],
   "source": [
    "sum(primes(2_000_000))"
   ]
  },
  {
   "cell_type": "markdown",
   "id": "perceived-insert",
   "metadata": {},
   "source": [
    "# Problem 11\n",
    "What is the greatest product of four adjacent numbers in the same direction (up, down, left, right, or diagonally) in the 20×20 grid?"
   ]
  },
  {
   "cell_type": "code",
   "execution_count": 7,
   "id": "supposed-saint",
   "metadata": {},
   "outputs": [
    {
     "name": "stderr",
     "output_type": "stream",
     "text": [
      "WARNING: redefinition of constant M. This may fail, cause incorrect answers, or produce other errors.\n"
     ]
    },
    {
     "data": {
      "text/plain": [
       "70600674"
      ]
     },
     "execution_count": 7,
     "metadata": {},
     "output_type": "execute_result"
    }
   ],
   "source": [
    "const M = [\n",
    "08 02 22 97 38 15 00 40 00 75 04 05 07 78 52 12 50 77 91 08;\n",
    "49 49 99 40 17 81 18 57 60 87 17 40 98 43 69 48 04 56 62 00;\n",
    "81 49 31 73 55 79 14 29 93 71 40 67 53 88 30 03 49 13 36 65;\n",
    "52 70 95 23 04 60 11 42 69 24 68 56 01 32 56 71 37 02 36 91;\n",
    "22 31 16 71 51 67 63 89 41 92 36 54 22 40 40 28 66 33 13 80;\n",
    "24 47 32 60 99 03 45 02 44 75 33 53 78 36 84 20 35 17 12 50;\n",
    "32 98 81 28 64 23 67 10 26 38 40 67 59 54 70 66 18 38 64 70;\n",
    "67 26 20 68 02 62 12 20 95 63 94 39 63 08 40 91 66 49 94 21;\n",
    "24 55 58 05 66 73 99 26 97 17 78 78 96 83 14 88 34 89 63 72;\n",
    "21 36 23 09 75 00 76 44 20 45 35 14 00 61 33 97 34 31 33 95;\n",
    "78 17 53 28 22 75 31 67 15 94 03 80 04 62 16 14 09 53 56 92;\n",
    "16 39 05 42 96 35 31 47 55 58 88 24 00 17 54 24 36 29 85 57;\n",
    "86 56 00 48 35 71 89 07 05 44 44 37 44 60 21 58 51 54 17 58;\n",
    "19 80 81 68 05 94 47 69 28 73 92 13 86 52 17 77 04 89 55 40;\n",
    "04 52 08 83 97 35 99 16 07 97 57 32 16 26 26 79 33 27 98 66;\n",
    "88 36 68 87 57 62 20 72 03 46 33 67 46 55 12 32 63 93 53 69;\n",
    "04 42 16 73 38 25 39 11 24 94 72 18 08 46 29 32 40 62 76 36;\n",
    "20 69 36 41 72 30 23 88 34 62 99 69 82 67 59 85 74 04 36 16;\n",
    "20 73 35 29 78 31 90 01 74 31 49 71 48 86 81 16 23 57 05 54;\n",
    "01 70 54 71 83 51 54 69 16 92 33 48 61 43 52 01 89 19 67 48]\n",
    "\n",
    "hi = 0\n",
    "for row = 1:20, col = 1:17\n",
    "    hi = max(hi, prod(M[row, col:col+3]))\n",
    "    hi = max(hi, prod(M[col:col+3, row]))\n",
    "    if row <= 17\n",
    "        diag1 = prod([M[row+i, col+i] for i=0:3])\n",
    "        diag2 = prod([M[row+3-i, col+i] for i=0:3])\n",
    "        hi = max(hi, diag1, diag2)\n",
    "    end\n",
    "end\n",
    "hi"
   ]
  },
  {
   "cell_type": "markdown",
   "id": "roman-script",
   "metadata": {},
   "source": [
    "# Problem 12\n",
    "What is the value of the first triangle number to have over five hundred divisors?"
   ]
  },
  {
   "cell_type": "code",
   "execution_count": 4,
   "id": "fitted-staff",
   "metadata": {},
   "outputs": [
    {
     "data": {
      "text/plain": [
       "76576500"
      ]
     },
     "execution_count": 4,
     "metadata": {},
     "output_type": "execute_result"
    }
   ],
   "source": [
    "using Primes\n",
    "\n",
    "function solve(n)\n",
    "    i = 2\n",
    "    while true\n",
    "        if prod(x -> x[2]+1, collect(factor(div(i*(i+1),2)))) > n\n",
    "            return div(i*(i+1),2)\n",
    "        end\n",
    "        i += 1\n",
    "    end\n",
    "end\n",
    "\n",
    "solve(500)"
   ]
  },
  {
   "cell_type": "markdown",
   "id": "sustainable-chuck",
   "metadata": {},
   "source": [
    "# Problem 13\n",
    "Work out the first ten digits of the sum of the following one-hundred 50-digit numbers."
   ]
  },
  {
   "cell_type": "code",
   "execution_count": 10,
   "id": "focused-clearing",
   "metadata": {},
   "outputs": [
    {
     "data": {
      "text/plain": [
       "\"5537376230\""
      ]
     },
     "execution_count": 10,
     "metadata": {},
     "output_type": "execute_result"
    }
   ],
   "source": [
    "numbers = [\n",
    "37107287533902102798797998220837590246510135740250\n",
    "46376937677490009712648124896970078050417018260538\n",
    "74324986199524741059474233309513058123726617309629\n",
    "91942213363574161572522430563301811072406154908250\n",
    "23067588207539346171171980310421047513778063246676\n",
    "89261670696623633820136378418383684178734361726757\n",
    "28112879812849979408065481931592621691275889832738\n",
    "44274228917432520321923589422876796487670272189318\n",
    "47451445736001306439091167216856844588711603153276\n",
    "70386486105843025439939619828917593665686757934951\n",
    "62176457141856560629502157223196586755079324193331\n",
    "64906352462741904929101432445813822663347944758178\n",
    "92575867718337217661963751590579239728245598838407\n",
    "58203565325359399008402633568948830189458628227828\n",
    "80181199384826282014278194139940567587151170094390\n",
    "35398664372827112653829987240784473053190104293586\n",
    "86515506006295864861532075273371959191420517255829\n",
    "71693888707715466499115593487603532921714970056938\n",
    "54370070576826684624621495650076471787294438377604\n",
    "53282654108756828443191190634694037855217779295145\n",
    "36123272525000296071075082563815656710885258350721\n",
    "45876576172410976447339110607218265236877223636045\n",
    "17423706905851860660448207621209813287860733969412\n",
    "81142660418086830619328460811191061556940512689692\n",
    "51934325451728388641918047049293215058642563049483\n",
    "62467221648435076201727918039944693004732956340691\n",
    "15732444386908125794514089057706229429197107928209\n",
    "55037687525678773091862540744969844508330393682126\n",
    "18336384825330154686196124348767681297534375946515\n",
    "80386287592878490201521685554828717201219257766954\n",
    "78182833757993103614740356856449095527097864797581\n",
    "16726320100436897842553539920931837441497806860984\n",
    "48403098129077791799088218795327364475675590848030\n",
    "87086987551392711854517078544161852424320693150332\n",
    "59959406895756536782107074926966537676326235447210\n",
    "69793950679652694742597709739166693763042633987085\n",
    "41052684708299085211399427365734116182760315001271\n",
    "65378607361501080857009149939512557028198746004375\n",
    "35829035317434717326932123578154982629742552737307\n",
    "94953759765105305946966067683156574377167401875275\n",
    "88902802571733229619176668713819931811048770190271\n",
    "25267680276078003013678680992525463401061632866526\n",
    "36270218540497705585629946580636237993140746255962\n",
    "24074486908231174977792365466257246923322810917141\n",
    "91430288197103288597806669760892938638285025333403\n",
    "34413065578016127815921815005561868836468420090470\n",
    "23053081172816430487623791969842487255036638784583\n",
    "11487696932154902810424020138335124462181441773470\n",
    "63783299490636259666498587618221225225512486764533\n",
    "67720186971698544312419572409913959008952310058822\n",
    "95548255300263520781532296796249481641953868218774\n",
    "76085327132285723110424803456124867697064507995236\n",
    "37774242535411291684276865538926205024910326572967\n",
    "23701913275725675285653248258265463092207058596522\n",
    "29798860272258331913126375147341994889534765745501\n",
    "18495701454879288984856827726077713721403798879715\n",
    "38298203783031473527721580348144513491373226651381\n",
    "34829543829199918180278916522431027392251122869539\n",
    "40957953066405232632538044100059654939159879593635\n",
    "29746152185502371307642255121183693803580388584903\n",
    "41698116222072977186158236678424689157993532961922\n",
    "62467957194401269043877107275048102390895523597457\n",
    "23189706772547915061505504953922979530901129967519\n",
    "86188088225875314529584099251203829009407770775672\n",
    "11306739708304724483816533873502340845647058077308\n",
    "82959174767140363198008187129011875491310547126581\n",
    "97623331044818386269515456334926366572897563400500\n",
    "42846280183517070527831839425882145521227251250327\n",
    "55121603546981200581762165212827652751691296897789\n",
    "32238195734329339946437501907836945765883352399886\n",
    "75506164965184775180738168837861091527357929701337\n",
    "62177842752192623401942399639168044983993173312731\n",
    "32924185707147349566916674687634660915035914677504\n",
    "99518671430235219628894890102423325116913619626622\n",
    "73267460800591547471830798392868535206946944540724\n",
    "76841822524674417161514036427982273348055556214818\n",
    "97142617910342598647204516893989422179826088076852\n",
    "87783646182799346313767754307809363333018982642090\n",
    "10848802521674670883215120185883543223812876952786\n",
    "71329612474782464538636993009049310363619763878039\n",
    "62184073572399794223406235393808339651327408011116\n",
    "66627891981488087797941876876144230030984490851411\n",
    "60661826293682836764744779239180335110989069790714\n",
    "85786944089552990653640447425576083659976645795096\n",
    "66024396409905389607120198219976047599490197230297\n",
    "64913982680032973156037120041377903785566085089252\n",
    "16730939319872750275468906903707539413042652315011\n",
    "94809377245048795150954100921645863754710598436791\n",
    "78639167021187492431995700641917969777599028300699\n",
    "15368713711936614952811305876380278410754449733078\n",
    "40789923115535562561142322423255033685442488917353\n",
    "44889911501440648020369068063960672322193204149535\n",
    "41503128880339536053299340368006977710650566631954\n",
    "81234880673210146739058568557934581403627822703280\n",
    "82616570773948327592232845941706525094512325230608\n",
    "22918802058777319719839450180888072429661980811197\n",
    "77158542502016545090413245809786882778948721859617\n",
    "72107838435069186155435662884062257473692284509516\n",
    "20849603980134001723930671666823555245252804609722\n",
    "53503534226472524250874054075591789781264330331690]\n",
    "string(sum(numbers))[1:10]"
   ]
  },
  {
   "cell_type": "markdown",
   "id": "relevant-slide",
   "metadata": {},
   "source": [
    "# Problem 14\n",
    "Which starting number, under one million, produces the longest chain?"
   ]
  },
  {
   "cell_type": "code",
   "execution_count": 11,
   "id": "tough-greeting",
   "metadata": {},
   "outputs": [
    {
     "data": {
      "text/plain": [
       "837799"
      ]
     },
     "execution_count": 11,
     "metadata": {},
     "output_type": "execute_result"
    }
   ],
   "source": [
    "next(n) = n%2==0 ? n/2 : 3n+1      \n",
    "\n",
    "numbers = Dict(1=>1)                \n",
    "for n=2:1e6\n",
    "    _chain = [n]                   \n",
    "    while n ∉ keys(numbers)         \n",
    "        n = next(n)      \n",
    "        append!(_chain, n)\n",
    "    end\n",
    "    chainLength = numbers[n]       \n",
    "    for _n in _chain[end-1:-1:1]    \n",
    "        chainLength += 1\n",
    "        numbers[_n] = chainLength\n",
    "    end\n",
    "end\n",
    "findmax(numbers)[2]"
   ]
  },
  {
   "cell_type": "code",
   "execution_count": null,
   "id": "placed-benchmark",
   "metadata": {},
   "outputs": [],
   "source": []
  }
 ],
 "metadata": {
  "kernelspec": {
   "display_name": "Julia 1.5.3",
   "language": "julia",
   "name": "julia-1.5"
  },
  "language_info": {
   "file_extension": ".jl",
   "mimetype": "application/julia",
   "name": "julia",
   "version": "1.5.3"
  }
 },
 "nbformat": 4,
 "nbformat_minor": 5
}
